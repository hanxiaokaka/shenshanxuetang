{
 "cells": [
  {
   "cell_type": "markdown",
   "id": "cb55d408-6492-488c-824a-52c1cde04559",
   "metadata": {},
   "source": [
    "# 佘山学堂\n",
    "## DAS 数据读取和fk变换\n",
    "作者:[Han Xiao](xiaohan@gfz-potsdam.de)\n",
    "\n",
    "我首先介绍 HDF5 文件格式，并演示如何读取数据和访问元数据。 然后，我提供一些数据可视化和处理的基本示例。 \n",
    "这些数据来自于PubDAS中西班牙Valencia的海底光纤DAS。\n",
    "\n",
    "参考文献\n",
    "Zack J. Spica, Jonathan Ajo‐Franklin, Gregory C. Beroza, Biondo Biondi, Feng Cheng, Beatriz Gaite, Bin Luo, Eileen Martin, Junzhu Shen, Clifford Thurber, Loïc Viens, Herbert Wang, Andreas Wuestefeld, Han Xiao, Tieyuan Zhu; PubDAS: A PUBlic Distributed Acoustic Sensing Datasets Repository for Geosciences. Seismological Research Letters 2023;; 94 (2A): 983–998. doi: https://doi.org/10.1785/0220220279\n",
    "\n",
    "Xiao, H., Tanimoto, T., Spica, Z. J., Gaite, B., Ruiz‐Barajas, S., Pan, M., & Viens, L. (2022). Locating the precise sources of high‐frequency microseisms using distributed acoustic sensing. Geophysical Research Letters, 49(17), e2022GL099292."
   ]
  },
  {
   "cell_type": "code",
   "execution_count": 6,
   "id": "7e8d646b-1e05-4e54-a68c-c95fc89b9f20",
   "metadata": {},
   "outputs": [],
   "source": [
    "import numpy as np\n",
    "import matplotlib.pyplot as plt\n",
    "import h5py    \n",
    "import numpy as np\n",
    "import os, glob\n",
    "from scipy import signal\n",
    "from tqdm import tqdm\n",
    "from scipy.signal import butter, lfilter, filtfilt"
   ]
  },
  {
   "cell_type": "markdown",
   "id": "d346c804-a48f-4de4-bfcd-8984200c4840",
   "metadata": {},
   "source": [
    "## 阅读 HDF5 文件并访问元数据\n",
    "DAS 地震数据主要存储在 HDF5 中。HDF5 代表“分层数据格式，版本 5”。 HDF5 是传统地震数据格式的灵活替代方案，允许我们存储大量二进制数据以及适当的元数据。 HDF5 格式的一个主要优点是它允许高效切片——例如，您可以读取单个通道的数据，而无需将整个文件加载到内存中。 HDF5 的另一个优点是允许并发读/写操作，这对于并行计算应用来说很方便。\n",
    "\n",
    "HDF5 文件包含两种类型的对象：组和数据集。 组将“层次结构”放入 HDF5 中，并且像文件夹一样，包含其他组或数据集。 数据集正如它们听起来的那样——实际的数据。 HDF5 文件中的所有对象都具有属性，即与该对象关联的元数据。 我们可以使用键访问对象或其属性，类似于 Python 字典的方式。"
   ]
  },
  {
   "cell_type": "code",
   "execution_count": 9,
   "id": "a09d3e93-a244-41ec-901b-78c0027a570a",
   "metadata": {},
   "outputs": [
    {
     "name": "stdout",
     "output_type": "stream",
     "text": [
      "--2023-11-16 14:29:48--  https://zenodo.org/records/10143152/files/SR_Valencia_2020-09-02_21-32-00_UTC_10mins.h5\n",
      "Resolving zenodo.org (zenodo.org)... 188.185.10.78, 188.185.22.33, 188.185.33.206\n",
      "Connecting to zenodo.org (zenodo.org)|188.185.10.78|:443... connected.\n",
      "HTTP request sent, awaiting response... 200 OK\n",
      "Length: 1789226584 (1.7G) [application/octet-stream]\n",
      "Saving to: 'SR_Valencia_2020-09-02_21-32-00_UTC_10mins.h5'\n",
      "\n",
      "SR_Valencia_2020-09 100%[===================>]   1.67G  7.98MB/s    in 4m 11s  \n",
      "\n",
      "2023-11-16 14:34:00 (6.81 MB/s) - 'SR_Valencia_2020-09-02_21-32-00_UTC_10mins.h5' saved [1789226584/1789226584]\n",
      "\n"
     ]
    }
   ],
   "source": [
    "!wget 'https://zenodo.org/records/10143152/files/SR_Valencia_2020-09-02_21-32-00_UTC_10mins.h5'"
   ]
  },
  {
   "cell_type": "code",
   "execution_count": 10,
   "id": "69cd7222-5ae2-49c4-9854-85b199695918",
   "metadata": {},
   "outputs": [
    {
     "name": "stdout",
     "output_type": "stream",
     "text": [
      "fa1-20050027\n",
      "fa1-20050027/Source1\n",
      "  AmpliPower: [27.]\n",
      "  DataDomain: [4. 2.]\n",
      "  FiberLength: [50000.]\n",
      "  FreqRes: [250.]\n",
      "  GaugeLength: [30.4]\n",
      "  Hostname: b'fa1-20050027'\n",
      "  Oversampling: [1.]\n",
      "  PipelineTracker: b'Source'\n",
      "  PulseRateFreq: [1000000.]\n",
      "  SamplingRate: [250.]\n",
      "  SamplingRes: [80.]\n",
      "  WholeExtent: [    0. 62499.     0.  1999.     0.     0.]\n",
      "fa1-20050027/Source1/Zone1\n",
      "  AmpliPower: [27.]\n",
      "  Components: [1.]\n",
      "  DataDomain: [4. 2. 0.]\n",
      "  Extent: [   0. 2976.    0.  999.    0.    0.]\n",
      "  FiberLength: [5000.]\n",
      "  FreqRes: b'250'\n",
      "  GaugeLength: [30.4]\n",
      "  Hostname: b'fa1-20050027'\n",
      "  Origin: [0. 0. 0.]\n",
      "  Oversampling: [1.]\n",
      "  PipelineTracker: b'Source'\n",
      "  PulseRateFreq: [1000000.]\n",
      "  SamplingRate: [250.]\n",
      "  SamplingRes: [80.]\n",
      "  Spacing: [16.8  2.   1. ]\n",
      "fa1-20050027/Source1/Zone1/SR_Valencia\n",
      "fa1-20050027/Source1/time\n"
     ]
    }
   ],
   "source": [
    "def display_hdf5_contents(file_path):\n",
    "    with h5py.File(file_path, 'r') as file:\n",
    "        def print_attrs(name, obj):\n",
    "            print(name)\n",
    "            for key, val in obj.attrs.items():\n",
    "                print(f\"  {key}: {val}\")\n",
    "\n",
    "        file.visititems(print_attrs)\n",
    "file = './SR_Valencia_2020-09-02_21-32-00_UTC_10mins.h5'\n",
    "display_hdf5_contents(file)"
   ]
  },
  {
   "cell_type": "markdown",
   "id": "71bafde1-5d11-41f1-8f5f-ac5f25059197",
   "metadata": {},
   "source": [
    "这段代码定义了一个函数 display_hdf5_contents，该函数接受一个 HDF5 文件的路径作为参数，然后打开这个文件，遍历其中的内容并打印出来。类似于matlab中h5disp.\n",
    "在这里我们可以获得一些有关采集的基本信息，包括标距、脉冲速率和空间采样间隔。"
   ]
  },
  {
   "cell_type": "code",
   "execution_count": null,
   "id": "6c07fb76-8d5a-465f-9a1e-2a6b52baca5b",
   "metadata": {},
   "outputs": [
    {
     "name": "stdout",
     "output_type": "stream",
     "text": [
      "\n",
      "> Initialization\n",
      "./SR_Valencia_2020-09-02_21-32-00_UTC_10mins.h5\n",
      "\n",
      "> Data extraction\n"
     ]
    }
   ],
   "source": [
    "import h5py\n",
    "import numpy as np\n",
    "import matplotlib.pyplot as plt\n",
    "\n",
    "# File Information\n",
    "pathname = './'\n",
    "filename = 'SR_Valencia_2020-09-02_21-32-00_UTC_10mins'\n",
    "Zone_to_Plot = 1\n",
    "\n",
    "# Time and Space Options\n",
    "Section_time = 'yes'  # 'yes' to select a section of time\n",
    "From_Time = 1  # seconds\n",
    "To_Time = 300  # seconds\n",
    "\n",
    "Section_space = 'yes'  # 'yes' to select a section of space\n",
    "From_Position = 0.00  # Kilometers\n",
    "To_Position = 50.0  # Kilometers\n",
    "\n",
    "# Initialization\n",
    "print(f\"\\n> Initialization\\n{pathname}{filename}.h5\")\n",
    "\n",
    "with h5py.File(f\"{pathname}{filename}.h5\", \"r\") as file:\n",
    "    das_name = list(file.keys())[0]  # Assuming the DAS unit is the first group\n",
    "    source1 = file[das_name]['Source1']\n",
    "\n",
    "    # Attributes\n",
    "    frequency = source1.attrs['PulseRateFreq']\n",
    "    freq_res = source1.attrs['FreqRes']/250\n",
    "    acquisition_length = source1.attrs['FiberLength']\n",
    "    SamplingRate = source1.attrs['SamplingRate']\n",
    "\n",
    "    zone = source1[f'Zone{Zone_to_Plot}']\n",
    "    origin = zone.attrs['Origin']\n",
    "    spacing = zone.attrs['Spacing']\n",
    "    extent = zone.attrs['Extent']\n",
    "\n",
    "    zi_start = origin[0] + (extent[0]) * spacing[0]\n",
    "    zi_end = origin[0] + (extent[1]) * spacing[0]\n",
    "    distance_fiber = np.arange(zi_start, zi_end, spacing[0])\n",
    "\n",
    "    # Dimensions\n",
    "    strain_rate_dataset = zone['SR_Valencia']\n",
    "    nb_block, block_time_size, block_space_size = strain_rate_dataset.shape\n",
    "    time_0 = source1['time'][()]\n",
    "\n",
    "# Processing Time and Space Sections\n",
    "if Section_time == 'no':\n",
    "    first_block = 0\n",
    "    last_block = nb_block - 1\n",
    "else:\n",
    "    first_block = int(From_Time * freq_res)\n",
    "    last_block = int(To_Time * freq_res)\n",
    "\n",
    "if Section_space == 'no':\n",
    "    first_point = 0\n",
    "    last_point = block_space_size\n",
    "else:\n",
    "    first_point = np.abs(distance_fiber - From_Position * 1000).argmin()\n",
    "    last_point = np.abs(distance_fiber - To_Position * 1000).argmin()\n",
    "\n",
    "# Data Extraction\n",
    "print(\"\\n> Data extraction\")\n",
    "strain_rate = np.array([])\n",
    "with h5py.File(f\"{pathname}{filename}.h5\", \"r\") as file:\n",
    "    for tt in range(first_block, last_block):\n",
    "        data = file[f\"{das_name}/Source1/Zone1/SR_Valencia\"][tt,:,first_point:last_point]\n",
    "        strain_rate = np.hstack([strain_rate, data.T]) if strain_rate.size else data.T"
   ]
  },
  {
   "cell_type": "markdown",
   "id": "83209dd2-a849-49c8-a346-56a135e774d7",
   "metadata": {},
   "source": [
    "这里的采样率为 250 Hz，2977个channel，10分钟的数据我们可以看到，正如预期的那样，十分钟有 600 x 250 x 2976 = 446400000 个样本。\n",
    "现在我们了解了 HDF5 中的组、数据集和属性如何工作，让我们看一下实际的 DAS 数据。 它存储在`file[\"fa1-20050027/Source1/Zone1/SR_Valencia\"]`的数据集对象中。 这是一个 3D 数据集（时间-采样率-通道/距离）。 该顺序由记录软件用户开关确定，允许以跟踪顺序或通道顺序存储数据。 通常，第一轴是时间，第二轴是采样率，第三轴是通道数，用于快速时域处理，并且在整个记录过程中通常是恒定的。 读取文件时最好检查该属性值。"
   ]
  },
  {
   "cell_type": "code",
   "execution_count": null,
   "id": "42d09ab0-b259-4cdb-8a44-1cbb55c7ec45",
   "metadata": {},
   "outputs": [],
   "source": [
    "# Plotting\n",
    "plt.figure()\n",
    "plt.imshow(strain_rate,extent=[From_Time, To_Time, From_Position, To_Position],vmin=2, vmax=5.88,aspect='auto')\n",
    "\n",
    "plt.colorbar()\n",
    "plt.xlabel('Time (s)')\n",
    "plt.ylabel('Distance (m)')\n",
    "plt.title('Strain rate')\n",
    "plt.show()"
   ]
  },
  {
   "cell_type": "markdown",
   "id": "f1e20b17-2fee-4fa0-948c-f402884934b2",
   "metadata": {},
   "source": [
    "这里我们展示了一个地震事件，接下来我们要使用fk变换来计算海洋波浪的速度"
   ]
  },
  {
   "cell_type": "code",
   "execution_count": null,
   "id": "6db94a08-f782-4620-908e-77f56e397044",
   "metadata": {},
   "outputs": [],
   "source": [
    "def spectral_normalization(data):\n",
    "    \"\"\"Compute simple Whitening of a trace.\n",
    "    :type data: numpy.array\n",
    "    :param data: the data\n",
    "    :return: specrtral normalized data\n",
    "    \"\"\"\n",
    "    spec = np.fft.rfft(data)\n",
    "    spec /= np.abs(spec)+1\n",
    "    data = np.fft.irfft(spec)\n",
    "    del spec\n",
    "    return data\n",
    "def butter_bandpass(lowcut, highcut, fs, order=5):\n",
    "    nyq = 0.5 * fs\n",
    "    low = lowcut / nyq\n",
    "    high = highcut / nyq\n",
    "    b, a = butter(order, [low, high], btype='band')\n",
    "    return b, a\n",
    "def butter_bandpass_filter(data, lowcut, highcut, fs, order=5):\n",
    "    b, a = butter_bandpass(lowcut, highcut, fs, order=order)\n",
    "    y = lfilter(b, a, data)\n",
    "    return y"
   ]
  },
  {
   "cell_type": "markdown",
   "id": "bf347d71-7ecb-4b91-b057-354e40d3e987",
   "metadata": {},
   "source": [
    "这里我们定义了一些预处理的函数，包括频谱白化，滤波等"
   ]
  },
  {
   "cell_type": "code",
   "execution_count": null,
   "id": "12bb255f-118f-4277-9a5a-4926517331d3",
   "metadata": {},
   "outputs": [],
   "source": [
    "nx = strain_rate.shape[0] # number of channels \n",
    "ns = strain_rate.shape[1] # number of samples\n",
    "fs = SamplingRate[0]   # sampling rate (Hz)\n",
    "dx = spacing[0]           # channel spacing (m)\n",
    "for j in range(0, strain_rate.shape[1]):\n",
    "   strain_rate[:,j] = strain_rate[:,j]-np.mean(strain_rate[:,j],axis=0)# 减去仪器common mode 噪音\n",
    "for j in range(0, nx):\n",
    "   strain_rate[j,:] = spectral_normalization(strain_rate[j,:]) # 谱白化\n",
    "\n",
    "x = np.arange(nx) * dx # 距离 单位为米\n",
    "t = np.arange(ns) / fs # 时间 单位为秒\n",
    "\n",
    "xmin = 0\n",
    "xmax = nx*dx\n",
    "idx = np.logical_and(x>=xmin,x<=xmax)\n",
    "\n",
    "tmin = 0\n",
    "tmax = ns/fs\n",
    "idt = np.logical_and(t>=tmin,t<=tmax)\n",
    "\n",
    "data_slice = strain_rate[np.ix_(idx,idt)]\n",
    "xx = x[idx]\n",
    "tt = t[idt]\n",
    "# Apply two FFTs to get the FK spectrum\n",
    "fk = np.fft.fft2(data_slice)\n",
    "fk = np.fft.fftshift(fk)\n",
    "fk = 20*np.log10(abs(fk))\n",
    "\n",
    "# Get FK axes\n",
    "f = np.fft.fftshift(np.fft.fftfreq(len(tt),d=1./fs))\n",
    "k = np.fft.fftshift(np.fft.fftfreq(len(xx),d=dx))     "
   ]
  },
  {
   "cell_type": "code",
   "execution_count": null,
   "id": "2feb01f2-cb9f-47fb-86b0-0b5ac8b59212",
   "metadata": {},
   "outputs": [],
   "source": [
    "import matplotlib\n",
    "font = {'family' : 'Helvetica',\n",
    "        'weight' : 'normal',\n",
    "        'size'   : 15}\n",
    "matplotlib.rc('font', **font)\n",
    "\n",
    "depth=50 #根据这个水深来计算理论频散曲线\n",
    "f_OSGW = np.sqrt(9.8*2*np.pi*k * np.tanh(2*np.pi*k*depth)) * (0.5/np.pi)  \n",
    "\n",
    "plt.figure(figsize=(10, 7))\n",
    "vmin=(np.max(fk)-np.min(fk))*0.2+np.min(fk)\n",
    "vmax=np.max(fk)-(np.max(fk)-np.min(fk))*0.2\n",
    "plt.imshow(fk[:,int(74750/2-300):int(74750/2+300)],extent=[f[int(74750/2-300)], f[int(74750/2+300)],k[0], k[-1]],cmap='viridis',vmin=vmin,vmax=vmax,aspect='auto')\n",
    "\n",
    "h=220\n",
    "f_OSGW = np.sqrt(9.8*2*np.pi*k * np.tanh(2*np.pi*k*h)) * (0.5/np.pi)\n",
    "plt.plot(f_OSGW,k,'r--')\n",
    "plt.xlabel('Frequency (Hz)')\n",
    "plt.ylabel('Wavenumber (1/m)')"
   ]
  },
  {
   "cell_type": "markdown",
   "id": "7f796fcb-f6f0-4d7c-b5d5-f7df03978d83",
   "metadata": {},
   "source": [
    "这里我们画出了这段时间fk变换后的，频率波数域的图，其中x轴是频率，y轴是波数。红色的虚线代表了计算的海洋波浪的在水深为220米（光纤的平均水深）时候的频散曲线。请注意这只是一个一维数据的直接变换，所以我们只能得到两个传播方向，分辨是海向的和陆向的。\n",
    "从图中可以看出我们可以很好的与我们的观测结果相吻合。另外在海洋波浪的右侧，我们可以看到很多的地震噪音，或者叫microseisms。关于这方面的研究还请参考我们都放在最前面的文献。"
   ]
  },
  {
   "cell_type": "code",
   "execution_count": null,
   "id": "e7b943ef-cd35-414d-a5f0-d1fe1f1ee8d9",
   "metadata": {},
   "outputs": [],
   "source": []
  }
 ],
 "metadata": {
  "kernelspec": {
   "display_name": "Python 3 (ipykernel)",
   "language": "python",
   "name": "python3"
  },
  "language_info": {
   "codemirror_mode": {
    "name": "ipython",
    "version": 3
   },
   "file_extension": ".py",
   "mimetype": "text/x-python",
   "name": "python",
   "nbconvert_exporter": "python",
   "pygments_lexer": "ipython3",
   "version": "3.9.13"
  }
 },
 "nbformat": 4,
 "nbformat_minor": 5
}
